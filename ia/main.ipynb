{
 "cells": [
  {
   "cell_type": "markdown",
   "id": "6350393e",
   "metadata": {},
   "source": [
    "### Importaciones de dependencias"
   ]
  },
  {
   "cell_type": "code",
   "execution_count": 1,
   "id": "28d2211e",
   "metadata": {},
   "outputs": [],
   "source": [
    "import pandas as pd\n",
    "import numpy as np\n",
    "import matplotlib.pyplot as plt\n",
    "import seaborn as sns\n",
    "import joblib as jl\n",
    "from sklearn.linear_model import LogisticRegression\n",
    "from sklearn.metrics import confusion_matrix, ConfusionMatrixDisplay, classification_report\n",
    "from sklearn.model_selection import train_test_split"
   ]
  },
  {
   "cell_type": "markdown",
   "id": "f6d960d0",
   "metadata": {},
   "source": [
    "### Leer el dataframe"
   ]
  },
  {
   "cell_type": "code",
   "execution_count": 2,
   "id": "09301183",
   "metadata": {},
   "outputs": [
    {
     "name": "stderr",
     "output_type": "stream",
     "text": [
      "C:\\Users\\Usuario\\AppData\\Local\\Temp\\ipykernel_20244\\1711445433.py:1: DtypeWarning: Columns (3,4,5) have mixed types. Specify dtype option on import or set low_memory=False.\n",
      "  df = pd.read_csv('asteroid.csv')\n"
     ]
    },
    {
     "data": {
      "text/html": [
       "<div>\n",
       "<style scoped>\n",
       "    .dataframe tbody tr th:only-of-type {\n",
       "        vertical-align: middle;\n",
       "    }\n",
       "\n",
       "    .dataframe tbody tr th {\n",
       "        vertical-align: top;\n",
       "    }\n",
       "\n",
       "    .dataframe thead th {\n",
       "        text-align: right;\n",
       "    }\n",
       "</style>\n",
       "<table border=\"1\" class=\"dataframe\">\n",
       "  <thead>\n",
       "    <tr style=\"text-align: right;\">\n",
       "      <th></th>\n",
       "      <th>id</th>\n",
       "      <th>spkid</th>\n",
       "      <th>full_name</th>\n",
       "      <th>pdes</th>\n",
       "      <th>name</th>\n",
       "      <th>prefix</th>\n",
       "      <th>neo</th>\n",
       "      <th>pha</th>\n",
       "      <th>H</th>\n",
       "      <th>diameter</th>\n",
       "      <th>albedo</th>\n",
       "      <th>diameter_sigma</th>\n",
       "      <th>orbit_id</th>\n",
       "      <th>epoch</th>\n",
       "      <th>epoch_mjd</th>\n",
       "      <th>epoch_cal</th>\n",
       "      <th>equinox</th>\n",
       "      <th>e</th>\n",
       "      <th>a</th>\n",
       "      <th>q</th>\n",
       "      <th>i</th>\n",
       "      <th>om</th>\n",
       "      <th>w</th>\n",
       "      <th>ma</th>\n",
       "      <th>ad</th>\n",
       "      <th>n</th>\n",
       "      <th>tp</th>\n",
       "      <th>tp_cal</th>\n",
       "      <th>per</th>\n",
       "      <th>per_y</th>\n",
       "      <th>moid</th>\n",
       "      <th>moid_ld</th>\n",
       "      <th>sigma_e</th>\n",
       "      <th>sigma_a</th>\n",
       "      <th>sigma_q</th>\n",
       "      <th>sigma_i</th>\n",
       "      <th>sigma_om</th>\n",
       "      <th>sigma_w</th>\n",
       "      <th>sigma_ma</th>\n",
       "      <th>sigma_ad</th>\n",
       "      <th>sigma_n</th>\n",
       "      <th>sigma_tp</th>\n",
       "      <th>sigma_per</th>\n",
       "      <th>class</th>\n",
       "      <th>rms</th>\n",
       "    </tr>\n",
       "  </thead>\n",
       "  <tbody>\n",
       "    <tr>\n",
       "      <th>0</th>\n",
       "      <td>a0000001</td>\n",
       "      <td>2000001</td>\n",
       "      <td>1 Ceres</td>\n",
       "      <td>1</td>\n",
       "      <td>Ceres</td>\n",
       "      <td>NaN</td>\n",
       "      <td>N</td>\n",
       "      <td>N</td>\n",
       "      <td>3.40</td>\n",
       "      <td>939.400</td>\n",
       "      <td>0.0900</td>\n",
       "      <td>0.200</td>\n",
       "      <td>JPL 47</td>\n",
       "      <td>2458600.5</td>\n",
       "      <td>58600</td>\n",
       "      <td>20190427.0</td>\n",
       "      <td>J2000</td>\n",
       "      <td>0.076009</td>\n",
       "      <td>2.769165</td>\n",
       "      <td>2.558684</td>\n",
       "      <td>10.594067</td>\n",
       "      <td>80.305531</td>\n",
       "      <td>73.597695</td>\n",
       "      <td>77.372098</td>\n",
       "      <td>2.979647</td>\n",
       "      <td>0.213885</td>\n",
       "      <td>2.458239e+06</td>\n",
       "      <td>2.018043e+07</td>\n",
       "      <td>1683.145703</td>\n",
       "      <td>4.608202</td>\n",
       "      <td>1.59478</td>\n",
       "      <td>620.640533</td>\n",
       "      <td>4.819000e-12</td>\n",
       "      <td>1.032800e-11</td>\n",
       "      <td>1.956900e-11</td>\n",
       "      <td>4.608900e-09</td>\n",
       "      <td>6.168800e-08</td>\n",
       "      <td>6.624800e-08</td>\n",
       "      <td>7.820700e-09</td>\n",
       "      <td>1.111300e-11</td>\n",
       "      <td>1.196500e-12</td>\n",
       "      <td>3.782900e-08</td>\n",
       "      <td>9.415900e-09</td>\n",
       "      <td>MBA</td>\n",
       "      <td>0.43301</td>\n",
       "    </tr>\n",
       "    <tr>\n",
       "      <th>1</th>\n",
       "      <td>a0000002</td>\n",
       "      <td>2000002</td>\n",
       "      <td>2 Pallas</td>\n",
       "      <td>2</td>\n",
       "      <td>Pallas</td>\n",
       "      <td>NaN</td>\n",
       "      <td>N</td>\n",
       "      <td>N</td>\n",
       "      <td>4.20</td>\n",
       "      <td>545.000</td>\n",
       "      <td>0.1010</td>\n",
       "      <td>18.000</td>\n",
       "      <td>JPL 37</td>\n",
       "      <td>2459000.5</td>\n",
       "      <td>59000</td>\n",
       "      <td>20200531.0</td>\n",
       "      <td>J2000</td>\n",
       "      <td>0.229972</td>\n",
       "      <td>2.773841</td>\n",
       "      <td>2.135935</td>\n",
       "      <td>34.832932</td>\n",
       "      <td>173.024741</td>\n",
       "      <td>310.202392</td>\n",
       "      <td>144.975675</td>\n",
       "      <td>3.411748</td>\n",
       "      <td>0.213345</td>\n",
       "      <td>2.458321e+06</td>\n",
       "      <td>2.018072e+07</td>\n",
       "      <td>1687.410992</td>\n",
       "      <td>4.619880</td>\n",
       "      <td>1.23429</td>\n",
       "      <td>480.348639</td>\n",
       "      <td>3.193400e-08</td>\n",
       "      <td>4.033700e-09</td>\n",
       "      <td>8.832200e-08</td>\n",
       "      <td>3.469400e-06</td>\n",
       "      <td>6.272400e-06</td>\n",
       "      <td>9.128200e-06</td>\n",
       "      <td>8.859100e-06</td>\n",
       "      <td>4.961300e-09</td>\n",
       "      <td>4.653600e-10</td>\n",
       "      <td>4.078700e-05</td>\n",
       "      <td>3.680700e-06</td>\n",
       "      <td>MBA</td>\n",
       "      <td>0.35936</td>\n",
       "    </tr>\n",
       "    <tr>\n",
       "      <th>2</th>\n",
       "      <td>a0000003</td>\n",
       "      <td>2000003</td>\n",
       "      <td>3 Juno</td>\n",
       "      <td>3</td>\n",
       "      <td>Juno</td>\n",
       "      <td>NaN</td>\n",
       "      <td>N</td>\n",
       "      <td>N</td>\n",
       "      <td>5.33</td>\n",
       "      <td>246.596</td>\n",
       "      <td>0.2140</td>\n",
       "      <td>10.594</td>\n",
       "      <td>JPL 112</td>\n",
       "      <td>2459000.5</td>\n",
       "      <td>59000</td>\n",
       "      <td>20200531.0</td>\n",
       "      <td>J2000</td>\n",
       "      <td>0.256936</td>\n",
       "      <td>2.668285</td>\n",
       "      <td>1.982706</td>\n",
       "      <td>12.991043</td>\n",
       "      <td>169.851482</td>\n",
       "      <td>248.066193</td>\n",
       "      <td>125.435355</td>\n",
       "      <td>3.353865</td>\n",
       "      <td>0.226129</td>\n",
       "      <td>2.458446e+06</td>\n",
       "      <td>2.018112e+07</td>\n",
       "      <td>1592.013769</td>\n",
       "      <td>4.358696</td>\n",
       "      <td>1.03429</td>\n",
       "      <td>402.514639</td>\n",
       "      <td>3.052000e-08</td>\n",
       "      <td>3.471800e-09</td>\n",
       "      <td>8.139200e-08</td>\n",
       "      <td>3.223100e-06</td>\n",
       "      <td>1.664600e-05</td>\n",
       "      <td>1.772100e-05</td>\n",
       "      <td>8.110400e-06</td>\n",
       "      <td>4.363900e-09</td>\n",
       "      <td>4.413400e-10</td>\n",
       "      <td>3.528800e-05</td>\n",
       "      <td>3.107200e-06</td>\n",
       "      <td>MBA</td>\n",
       "      <td>0.33848</td>\n",
       "    </tr>\n",
       "    <tr>\n",
       "      <th>3</th>\n",
       "      <td>a0000004</td>\n",
       "      <td>2000004</td>\n",
       "      <td>4 Vesta</td>\n",
       "      <td>4</td>\n",
       "      <td>Vesta</td>\n",
       "      <td>NaN</td>\n",
       "      <td>N</td>\n",
       "      <td>N</td>\n",
       "      <td>3.00</td>\n",
       "      <td>525.400</td>\n",
       "      <td>0.4228</td>\n",
       "      <td>0.200</td>\n",
       "      <td>JPL 35</td>\n",
       "      <td>2458600.5</td>\n",
       "      <td>58600</td>\n",
       "      <td>20190427.0</td>\n",
       "      <td>J2000</td>\n",
       "      <td>0.088721</td>\n",
       "      <td>2.361418</td>\n",
       "      <td>2.151909</td>\n",
       "      <td>7.141771</td>\n",
       "      <td>103.810804</td>\n",
       "      <td>150.728541</td>\n",
       "      <td>95.861938</td>\n",
       "      <td>2.570926</td>\n",
       "      <td>0.271609</td>\n",
       "      <td>2.458248e+06</td>\n",
       "      <td>2.018051e+07</td>\n",
       "      <td>1325.432763</td>\n",
       "      <td>3.628837</td>\n",
       "      <td>1.13948</td>\n",
       "      <td>443.451432</td>\n",
       "      <td>2.332100e-10</td>\n",
       "      <td>1.514300e-09</td>\n",
       "      <td>1.928600e-09</td>\n",
       "      <td>2.170600e-07</td>\n",
       "      <td>3.880800e-07</td>\n",
       "      <td>1.789300e-07</td>\n",
       "      <td>1.206800e-06</td>\n",
       "      <td>1.648600e-09</td>\n",
       "      <td>2.612500e-10</td>\n",
       "      <td>4.103700e-06</td>\n",
       "      <td>1.274900e-06</td>\n",
       "      <td>MBA</td>\n",
       "      <td>0.39980</td>\n",
       "    </tr>\n",
       "    <tr>\n",
       "      <th>4</th>\n",
       "      <td>a0000005</td>\n",
       "      <td>2000005</td>\n",
       "      <td>5 Astraea</td>\n",
       "      <td>5</td>\n",
       "      <td>Astraea</td>\n",
       "      <td>NaN</td>\n",
       "      <td>N</td>\n",
       "      <td>N</td>\n",
       "      <td>6.90</td>\n",
       "      <td>106.699</td>\n",
       "      <td>0.2740</td>\n",
       "      <td>3.140</td>\n",
       "      <td>JPL 114</td>\n",
       "      <td>2459000.5</td>\n",
       "      <td>59000</td>\n",
       "      <td>20200531.0</td>\n",
       "      <td>J2000</td>\n",
       "      <td>0.190913</td>\n",
       "      <td>2.574037</td>\n",
       "      <td>2.082619</td>\n",
       "      <td>5.367427</td>\n",
       "      <td>141.571026</td>\n",
       "      <td>358.648418</td>\n",
       "      <td>17.846343</td>\n",
       "      <td>3.065455</td>\n",
       "      <td>0.238661</td>\n",
       "      <td>2.458926e+06</td>\n",
       "      <td>2.020032e+07</td>\n",
       "      <td>1508.414421</td>\n",
       "      <td>4.129814</td>\n",
       "      <td>1.09575</td>\n",
       "      <td>426.433027</td>\n",
       "      <td>2.373700e-08</td>\n",
       "      <td>3.970900e-09</td>\n",
       "      <td>6.092400e-08</td>\n",
       "      <td>2.740800e-06</td>\n",
       "      <td>2.894900e-05</td>\n",
       "      <td>2.984200e-05</td>\n",
       "      <td>8.303800e-06</td>\n",
       "      <td>4.729000e-09</td>\n",
       "      <td>5.522700e-10</td>\n",
       "      <td>3.474300e-05</td>\n",
       "      <td>3.490500e-06</td>\n",
       "      <td>MBA</td>\n",
       "      <td>0.52191</td>\n",
       "    </tr>\n",
       "  </tbody>\n",
       "</table>\n",
       "</div>"
      ],
      "text/plain": [
       "         id    spkid       full_name  ...     sigma_per class      rms\n",
       "0  a0000001  2000001         1 Ceres  ...  9.415900e-09   MBA  0.43301\n",
       "1  a0000002  2000002        2 Pallas  ...  3.680700e-06   MBA  0.35936\n",
       "2  a0000003  2000003          3 Juno  ...  3.107200e-06   MBA  0.33848\n",
       "3  a0000004  2000004         4 Vesta  ...  1.274900e-06   MBA  0.39980\n",
       "4  a0000005  2000005       5 Astraea  ...  3.490500e-06   MBA  0.52191\n",
       "\n",
       "[5 rows x 45 columns]"
      ]
     },
     "execution_count": 2,
     "metadata": {},
     "output_type": "execute_result"
    }
   ],
   "source": [
    "df = pd.read_csv('asteroid.csv')\n",
    "\n",
    "df.head()"
   ]
  },
  {
   "cell_type": "markdown",
   "id": "b8b408e0",
   "metadata": {},
   "source": [
    "### Generar la columna id"
   ]
  },
  {
   "cell_type": "code",
   "execution_count": 3,
   "id": "bc5c6fe0",
   "metadata": {},
   "outputs": [],
   "source": [
    "df[\"id\"] = range(1, len(df) + 1)"
   ]
  },
  {
   "cell_type": "markdown",
   "id": "54667b0d",
   "metadata": {},
   "source": [
    "### Tomamos las columnas de interés"
   ]
  },
  {
   "cell_type": "code",
   "execution_count": 4,
   "id": "8109fb3d",
   "metadata": {},
   "outputs": [
    {
     "data": {
      "text/html": [
       "<div>\n",
       "<style scoped>\n",
       "    .dataframe tbody tr th:only-of-type {\n",
       "        vertical-align: middle;\n",
       "    }\n",
       "\n",
       "    .dataframe tbody tr th {\n",
       "        vertical-align: top;\n",
       "    }\n",
       "\n",
       "    .dataframe thead th {\n",
       "        text-align: right;\n",
       "    }\n",
       "</style>\n",
       "<table border=\"1\" class=\"dataframe\">\n",
       "  <thead>\n",
       "    <tr style=\"text-align: right;\">\n",
       "      <th></th>\n",
       "      <th>id</th>\n",
       "      <th>name</th>\n",
       "      <th>neo</th>\n",
       "      <th>absolute_magnitude</th>\n",
       "      <th>eccentricity</th>\n",
       "      <th>semimajor_axis</th>\n",
       "      <th>perihelion</th>\n",
       "      <th>inclination</th>\n",
       "      <th>time_perihelion</th>\n",
       "      <th>moid_ld</th>\n",
       "    </tr>\n",
       "  </thead>\n",
       "  <tbody>\n",
       "    <tr>\n",
       "      <th>0</th>\n",
       "      <td>1</td>\n",
       "      <td>Ceres</td>\n",
       "      <td>N</td>\n",
       "      <td>3.40</td>\n",
       "      <td>0.076009</td>\n",
       "      <td>2.769165</td>\n",
       "      <td>2.558684</td>\n",
       "      <td>10.594067</td>\n",
       "      <td>2.458239e+06</td>\n",
       "      <td>620.640533</td>\n",
       "    </tr>\n",
       "    <tr>\n",
       "      <th>1</th>\n",
       "      <td>2</td>\n",
       "      <td>Pallas</td>\n",
       "      <td>N</td>\n",
       "      <td>4.20</td>\n",
       "      <td>0.229972</td>\n",
       "      <td>2.773841</td>\n",
       "      <td>2.135935</td>\n",
       "      <td>34.832932</td>\n",
       "      <td>2.458321e+06</td>\n",
       "      <td>480.348639</td>\n",
       "    </tr>\n",
       "    <tr>\n",
       "      <th>2</th>\n",
       "      <td>3</td>\n",
       "      <td>Juno</td>\n",
       "      <td>N</td>\n",
       "      <td>5.33</td>\n",
       "      <td>0.256936</td>\n",
       "      <td>2.668285</td>\n",
       "      <td>1.982706</td>\n",
       "      <td>12.991043</td>\n",
       "      <td>2.458446e+06</td>\n",
       "      <td>402.514639</td>\n",
       "    </tr>\n",
       "    <tr>\n",
       "      <th>3</th>\n",
       "      <td>4</td>\n",
       "      <td>Vesta</td>\n",
       "      <td>N</td>\n",
       "      <td>3.00</td>\n",
       "      <td>0.088721</td>\n",
       "      <td>2.361418</td>\n",
       "      <td>2.151909</td>\n",
       "      <td>7.141771</td>\n",
       "      <td>2.458248e+06</td>\n",
       "      <td>443.451432</td>\n",
       "    </tr>\n",
       "    <tr>\n",
       "      <th>4</th>\n",
       "      <td>5</td>\n",
       "      <td>Astraea</td>\n",
       "      <td>N</td>\n",
       "      <td>6.90</td>\n",
       "      <td>0.190913</td>\n",
       "      <td>2.574037</td>\n",
       "      <td>2.082619</td>\n",
       "      <td>5.367427</td>\n",
       "      <td>2.458926e+06</td>\n",
       "      <td>426.433027</td>\n",
       "    </tr>\n",
       "  </tbody>\n",
       "</table>\n",
       "</div>"
      ],
      "text/plain": [
       "   id     name neo  ...  inclination  time_perihelion     moid_ld\n",
       "0   1    Ceres   N  ...    10.594067     2.458239e+06  620.640533\n",
       "1   2   Pallas   N  ...    34.832932     2.458321e+06  480.348639\n",
       "2   3     Juno   N  ...    12.991043     2.458446e+06  402.514639\n",
       "3   4    Vesta   N  ...     7.141771     2.458248e+06  443.451432\n",
       "4   5  Astraea   N  ...     5.367427     2.458926e+06  426.433027\n",
       "\n",
       "[5 rows x 10 columns]"
      ]
     },
     "execution_count": 4,
     "metadata": {},
     "output_type": "execute_result"
    }
   ],
   "source": [
    "df = df[['id', 'name', 'neo', 'H', 'e', 'a', 'q', 'i', 'tp', 'moid_ld']]\n",
    "df = df.rename(columns={\n",
    "    'H': 'absolute_magnitude',\n",
    "    'e': 'eccentricity',\n",
    "    'a': 'semimajor_axis',\n",
    "    'q': 'perihelion',\n",
    "    'i': 'inclination',\n",
    "    'tp': 'time_perihelion',\n",
    "})\n",
    "\n",
    "df.head()"
   ]
  },
  {
   "cell_type": "code",
   "execution_count": 5,
   "id": "6c963e32",
   "metadata": {},
   "outputs": [
    {
     "name": "stdout",
     "output_type": "stream",
     "text": [
      "<class 'pandas.core.frame.DataFrame'>\n",
      "RangeIndex: 958524 entries, 0 to 958523\n",
      "Data columns (total 10 columns):\n",
      " #   Column              Non-Null Count   Dtype  \n",
      "---  ------              --------------   -----  \n",
      " 0   id                  958524 non-null  int64  \n",
      " 1   name                22064 non-null   object \n",
      " 2   neo                 958520 non-null  object \n",
      " 3   absolute_magnitude  952261 non-null  float64\n",
      " 4   eccentricity        958524 non-null  float64\n",
      " 5   semimajor_axis      958524 non-null  float64\n",
      " 6   perihelion          958524 non-null  float64\n",
      " 7   inclination         958524 non-null  float64\n",
      " 8   time_perihelion     958524 non-null  float64\n",
      " 9   moid_ld             958397 non-null  float64\n",
      "dtypes: float64(7), int64(1), object(2)\n",
      "memory usage: 73.1+ MB\n"
     ]
    }
   ],
   "source": [
    "df.info()"
   ]
  },
  {
   "cell_type": "code",
   "execution_count": 6,
   "id": "ae3100f1",
   "metadata": {},
   "outputs": [
    {
     "data": {
      "text/plain": [
       "id                         0\n",
       "name                  936460\n",
       "neo                        4\n",
       "absolute_magnitude      6263\n",
       "eccentricity               0\n",
       "semimajor_axis             0\n",
       "perihelion                 0\n",
       "inclination                0\n",
       "time_perihelion            0\n",
       "moid_ld                  127\n",
       "dtype: int64"
      ]
     },
     "execution_count": 6,
     "metadata": {},
     "output_type": "execute_result"
    }
   ],
   "source": [
    "df.isnull().sum()"
   ]
  },
  {
   "cell_type": "markdown",
   "id": "a804bdc7",
   "metadata": {},
   "source": [
    "### Limpieza de datos"
   ]
  },
  {
   "cell_type": "code",
   "execution_count": 7,
   "id": "96cc1cb4",
   "metadata": {},
   "outputs": [
    {
     "data": {
      "text/plain": [
       "id                         0\n",
       "name                  930068\n",
       "neo                        0\n",
       "absolute_magnitude         0\n",
       "eccentricity               0\n",
       "semimajor_axis             0\n",
       "perihelion                 0\n",
       "inclination                0\n",
       "time_perihelion            0\n",
       "moid_ld                    0\n",
       "dtype: int64"
      ]
     },
     "execution_count": 7,
     "metadata": {},
     "output_type": "execute_result"
    }
   ],
   "source": [
    "df = df.dropna(subset=['absolute_magnitude', 'neo', 'moid_ld'])\n",
    "\n",
    "df.isnull().sum()"
   ]
  },
  {
   "cell_type": "markdown",
   "id": "daea3cab",
   "metadata": {},
   "source": [
    "### Creacion de la columna para el entrenamiento"
   ]
  },
  {
   "cell_type": "code",
   "execution_count": 8,
   "id": "10c92229",
   "metadata": {},
   "outputs": [],
   "source": [
    "df['neo'] = df['neo'].map({'Y': 1, 'N': 0})"
   ]
  },
  {
   "cell_type": "markdown",
   "id": "b050644e",
   "metadata": {},
   "source": [
    "### Entrenamiento del modelo"
   ]
  },
  {
   "cell_type": "code",
   "execution_count": 9,
   "id": "c646db32",
   "metadata": {},
   "outputs": [
    {
     "name": "stdout",
     "output_type": "stream",
     "text": [
      "              precision    recall  f1-score   support\n",
      "\n",
      "           0       1.00      1.00      1.00    185824\n",
      "           1       0.93      0.85      0.89      4603\n",
      "\n",
      "    accuracy                           1.00    190427\n",
      "   macro avg       0.97      0.93      0.94    190427\n",
      "weighted avg       0.99      1.00      0.99    190427\n",
      "\n"
     ]
    }
   ],
   "source": [
    "x = df[['absolute_magnitude', 'eccentricity', 'semimajor_axis', 'perihelion', 'inclination', 'time_perihelion', 'moid_ld']]\n",
    "y = df['neo']\n",
    "\n",
    "x_train, X_test, y_train, y_test = train_test_split(x, y, test_size=0.2, random_state=42)\n",
    "\n",
    "model = LogisticRegression(max_iter=5000)\n",
    "\n",
    "model.fit(x_train, y_train)\n",
    "\n",
    "y_pred = model.predict(X_test)\n",
    "\n",
    "print(classification_report(y_test, y_pred))"
   ]
  },
  {
   "cell_type": "markdown",
   "id": "efdb1958",
   "metadata": {},
   "source": [
    "### Prediccion"
   ]
  },
  {
   "cell_type": "code",
   "execution_count": 10,
   "id": "520d65c6",
   "metadata": {},
   "outputs": [
    {
     "name": "stdout",
     "output_type": "stream",
     "text": [
      "NEO positivo: 1\n",
      "NEO negativo: 0\n",
      "Probabilidades positivas: [0.02158982 0.97841018]\n",
      "Probabilidades negativas: [0.74872576 0.25127424]\n"
     ]
    }
   ],
   "source": [
    "neo_positive = np.array([[22.1, 0.45, 1.1, 0.85, 6.4, 2459400.0, 0.02]])\n",
    "neo_negative = np.array([[18.3, 0.07, 3.2, 2.95, 18.7, 2459500.0, 1.85]])\n",
    "\n",
    "columns = ['absolute_magnitude', 'eccentricity', 'semimajor_axis', 'perihelion', 'inclination', 'time_perihelion', 'moid_ld']\n",
    "\n",
    "neo_positive_df = pd.DataFrame(neo_positive, columns=columns)\n",
    "neo_negative_df = pd.DataFrame(neo_negative, columns=columns)\n",
    "\n",
    "print(\"NEO positivo:\", model.predict(neo_positive_df)[0])\n",
    "print(\"NEO negativo:\", model.predict(neo_negative_df)[0])\n",
    "\n",
    "print(\"Probabilidades positivas:\", model.predict_proba(neo_positive_df)[0])\n",
    "print(\"Probabilidades negativas:\", model.predict_proba(neo_negative_df)[0])"
   ]
  },
  {
   "cell_type": "markdown",
   "id": "fb77293d",
   "metadata": {},
   "source": [
    "### Guardar el modelo"
   ]
  },
  {
   "cell_type": "code",
   "execution_count": 11,
   "id": "de043f28",
   "metadata": {},
   "outputs": [
    {
     "data": {
      "text/plain": [
       "['asteroid_model.pkl']"
      ]
     },
     "execution_count": 11,
     "metadata": {},
     "output_type": "execute_result"
    }
   ],
   "source": [
    "jl.dump(model, 'asteroid_model.pkl')"
   ]
  },
  {
   "cell_type": "markdown",
   "id": "fa7ca76a",
   "metadata": {},
   "source": [
    "### Graficar los resultados"
   ]
  },
  {
   "cell_type": "code",
   "execution_count": 12,
   "id": "2fd81caf",
   "metadata": {},
   "outputs": [
    {
     "data": {
      "image/png": "[encoded data removed]",
      "text/plain": [
       "<Figure size 640x480 with 2 Axes>"
      ]
     },
     "metadata": {},
     "output_type": "display_data"
    }
   ],
   "source": [
    "y_pred = model.predict(x)\n",
    "\n",
    "cm = confusion_matrix(y, y_pred, labels=[0, 1])\n",
    "\n",
    "disp = ConfusionMatrixDisplay(confusion_matrix=cm, display_labels=[\"No NEO\", \"NEO\"])\n",
    "disp.plot(cmap=plt.cm.Blues)\n",
    "\n",
    "plt.title(\"Matriz de Confusión - Regresión Logística\")\n",
    "plt.show()"
   ]
  }
 ],
 "metadata": {
  "kernelspec": {
   "display_name": "env",
   "language": "python",
   "name": "python3"
  },
  "language_info": {
   "codemirror_mode": {
    "name": "ipython",
    "version": 3
   },
   "file_extension": ".py",
   "mimetype": "text/x-python",
   "name": "python",
   "nbconvert_exporter": "python",
   "pygments_lexer": "ipython3",
   "version": "3.11.0"
  }
 },
 "nbformat": 4,
 "nbformat_minor": 5
}
